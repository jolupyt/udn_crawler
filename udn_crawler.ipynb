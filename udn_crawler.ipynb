{
  "nbformat": 4,
  "nbformat_minor": 0,
  "metadata": {
    "colab": {
      "provenance": [],
      "authorship_tag": "ABX9TyMw8wOZ9ME28n8JovMNe9IS"
    },
    "kernelspec": {
      "name": "python3",
      "display_name": "Python 3"
    },
    "language_info": {
      "name": "python"
    }
  },
  "cells": [
    {
      "cell_type": "code",
      "execution_count": null,
      "metadata": {
        "id": "YjwEIMPFXmga"
      },
      "outputs": [],
      "source": [
        "# 爬取「聯合新聞網」作為主要的文本來源，將新聞內文存在一個 List 容器變數news\n",
        "import requests\n",
        "from bs4 import BeautifulSoup\n",
        "# get data\n",
        "udn_url = 'https://udn.com/news/breaknews/1'\n",
        "res = requests.get(udn_url)\n",
        "if res.status_code == 200:\n",
        "    soup = BeautifulSoup(res.text, 'html5lib') # bs4將文字轉換為標籤樹tag\n",
        "    title = soup.title\n",
        "    news = soup.find_all('div', class_='story-list__text')\n",
        "    for new in news:\n",
        "        new_url = new.a['href']\n",
        "        # 篩選連結\n",
        "        if len(new_url) != 1:\n",
        "            news_res = requests.get('https://udn.com' + new_url)\n",
        "            news_soup = BeautifulSoup(news_res.text)\n",
        "            news_content = news_soup.find('div', class_='article-content__paragraph').text.replace('\\n', ' ').strip()\n",
        "            print(news_content)"
      ]
    }
  ]
}