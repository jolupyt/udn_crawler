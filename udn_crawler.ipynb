{
  "nbformat": 4,
  "nbformat_minor": 0,
  "metadata": {
    "colab": {
      "provenance": [],
      "authorship_tag": "ABX9TyNnFc6ZxSToFOhAxHH/ZA/1"
    },
    "kernelspec": {
      "name": "python3",
      "display_name": "Python 3"
    },
    "language_info": {
      "name": "python"
    }
  },
  "cells": [
    {
      "cell_type": "code",
      "execution_count": 43,
      "metadata": {
        "colab": {
          "base_uri": "https://localhost:8080/"
        },
        "id": "YjwEIMPFXmga",
        "outputId": "7aae65ab-f395-4167-bfca-2b442a2717cf"
      },
      "outputs": [
        {
          "output_type": "stream",
          "name": "stdout",
          "text": [
            "實支實付醫療保險可受理副本理培的壽險業者陸續宣布停售，民眾擔憂買不到實支實付醫療保險，金管會周六晚間緊急發出聲明稿表示，近期停售的都是接受副本理賠的保險商品，市面上目前仍有正本理賠的實支實付醫療險銷售，並非所有實支實付的醫療險都買不到，而且還有日額型等其他種類醫療險可以選擇。金管會表示，實支實付醫療保險商品的主要功能，是當保戶發生保單條款約定保險事故所致實際醫療費用支出，提供費用補償，因此應適用保險損害填補原則，保險公司在受理民眾投保時，將依照內部核保規定進行核保，金管會並未禁止保險公司銷售實支實付醫療保險。近日部分保險公司宣布停止受理或停止銷售醫療保險商品，均為接受醫療收據副本理賠的實支實付醫療保險商品，民眾若有投保需求，市面上還有其他實支實付醫療保險商品可以買，並非買不到。且除了實支實付醫療保險外，還有日額型醫療保險、重大疾病保險、特定傷病保險、癌症保險等其他支應民眾就醫需求的保險商品可供選擇。金管會並且表示，保險商品宜逐步轉型回歸「保險保障」本質，其中包括實支實付醫療保險商品應落實損害填補原則，但細節還有待討論並建立配套機制，例如，因應新藥及醫療科技進步，將來是否能在實支實付醫療保險商品納入給付範圍，將由保發中心研究創新醫藥及新型醫療方式的發生率與醫療費用損失幅度等專案，未來保險公司可據此研發高端或自費醫療保險商品。▪ 空調小教室／破解無良師傅2話術 冷氣不冷先看這裡\n",
            " ▪ 他酸小坪數還裝潢是「盤子」 多數人搖頭曝不裝潢後果\n",
            " ▪ 全台房市紅盤封關！12月首購當道 建商籌備大選後329檔期\n",
            " ▪ 夫妻各付一半頭期款買房 婆婆一句話就想同住惹怒眾人\n",
            " ▪ 部落客中永和尋安身立命處 看屋月餘嘆房價高灰心轉戰桃園\n",
            "20\n"
          ]
        }
      ],
      "source": [
        "# 爬取「聯合新聞網」作為主要的文本來源，將新聞內文存在一個 List 容器變數news_container\n",
        "import requests\n",
        "from bs4 import BeautifulSoup\n",
        "# get data\n",
        "udn_url = 'https://udn.com/news/breaknews/1'\n",
        "res = requests.get(udn_url)\n",
        "if res.status_code == 200:\n",
        "    soup = BeautifulSoup(res.text, 'html5lib') # bs4將文字轉換為標籤樹tag\n",
        "    title = soup.title\n",
        "    news = soup.find_all('div', class_='story-list__text')\n",
        "\n",
        "    news_container = []\n",
        "    for new in news:\n",
        "        new_url = new.a['href']\n",
        "        # 篩選連結\n",
        "        if len(new_url) != 1:\n",
        "            news_res = requests.get('https://udn.com' + new_url)\n",
        "            news_soup = BeautifulSoup(news_res.text, 'html5lib')\n",
        "            contents = news_soup.find('div', class_='article-content__paragraph').find_all('p')\n",
        "            article = ''.join([content.get_text().strip() for content in contents])\n",
        "            news_container.append(article)\n",
        "print(news_container[0])\n",
        "print(len(news_container))"
      ]
    }
  ]
}